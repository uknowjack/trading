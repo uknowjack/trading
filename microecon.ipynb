{
 "cells": [
  {
   "cell_type": "code",
   "execution_count": 1,
   "metadata": {
    "ExecuteTime": {
     "end_time": "2019-06-17T02:35:23.101107Z",
     "start_time": "2019-06-17T02:35:22.785392Z"
    }
   },
   "outputs": [
    {
     "name": "stdout",
     "output_type": "stream",
     "text": [
      "pygame 1.9.6\n",
      "Hello from the pygame community. https://www.pygame.org/contribute.html\n"
     ]
    }
   ],
   "source": [
    "import pygame as pg\n",
    "import time\n",
    "import random\n",
    "import math\n",
    "import numpy as np\n",
    "from pygame import gfxdraw\n",
    "import sys"
   ]
  },
  {
   "cell_type": "code",
   "execution_count": 2,
   "metadata": {
    "ExecuteTime": {
     "end_time": "2019-06-17T02:35:23.773653Z",
     "start_time": "2019-06-17T02:35:23.105352Z"
    }
   },
   "outputs": [],
   "source": [
    "pg.init()\n",
    "\n",
    "game_width = 800\n",
    "game_height = 600\n",
    "fps = 60\n",
    "\n",
    "white = (255,255,255)\n",
    "black = (0,0,0)\n",
    "red = (255,0,0)\n",
    "green = (0,255,0)\n",
    "blue = (0,0,255)\n",
    "purple = (255,0,255)\n",
    "cyan = (0,255,255)\n",
    "\n",
    "creature_size = 10\n",
    "init_vel = 0\n",
    "init_steering_weight = 0.5\n",
    "init_metabolism = .01\n",
    "max_vel = 5\n",
    "age_factor = .0001\n",
    "mutation_change = .05\n",
    "\n",
    "food_size = 5\n",
    "\n",
    "num_buyers = 2\n",
    "num_sellers = 2\n",
    "\n",
    "boundary_size = 40\n",
    "\n",
    "screen = pg.display.set_mode((game_width,game_height))\n",
    "clock = pg.time.Clock()"
   ]
  },
  {
   "cell_type": "code",
   "execution_count": 3,
   "metadata": {
    "ExecuteTime": {
     "end_time": "2019-06-17T02:35:23.788282Z",
     "start_time": "2019-06-17T02:35:23.782634Z"
    }
   },
   "outputs": [],
   "source": [
    "def get_draw_pos(x, size):\n",
    "    pos = x-size/2\n",
    "    return pos\n",
    "\n",
    "def magnitude_calc(vector):\n",
    "    x = 0\n",
    "    for i in vector:\n",
    "        x += i**2\n",
    "    magnitude = x**0.5\n",
    "    return(magnitude)\n",
    "    \n",
    "def normalise(vector):\n",
    "    magnitude = magnitude_calc(vector)\n",
    "    if magnitude != 0:\n",
    "        vector = vector/magnitude\n",
    "    return(vector)"
   ]
  },
  {
   "cell_type": "code",
   "execution_count": 4,
   "metadata": {
    "ExecuteTime": {
     "end_time": "2019-06-17T02:35:23.804815Z",
     "start_time": "2019-06-17T02:35:23.792755Z"
    }
   },
   "outputs": [],
   "source": [
    "class create_creature():\n",
    "    def __init__(self, pos_x, pos_y, role, price):\n",
    "        self.position = np.array([pos_x,pos_y], dtype='float64')\n",
    "        self.size = creature_size\n",
    "        self.role = role\n",
    "        self.price = price\n",
    "        self.money = 100000\n",
    "    \n",
    "    def update(self):\n",
    "        self.velocity = normalise(self.velocity+self.acceleration)*self.max_vel\n",
    "        self.position += self.velocity\n",
    "        self.acceleration *= 0\n",
    "        \n",
    "    def apply_force(self, force):\n",
    "        self.acceleration += force\n",
    "\n",
    "    def seek(self, target):\n",
    "        desired_vel = normalise(np.add(target, -self.position))*self.max_vel\n",
    "        steering_force = np.add(desired_vel, -self.velocity)\n",
    "        steering_force = normalise(steering_force)*self.max_force\n",
    "        return(steering_force)\n",
    "    \n",
    "    def draw(self):\n",
    "        draw_left_x = get_draw_pos(self.position[0],self.size)\n",
    "        draw_top_y = get_draw_pos(self.position[1],self.size)\n",
    "        \n",
    "        def draw_head():\n",
    "            pg.draw.ellipse(screen, green, (draw_left_x, draw_top_y, self.size, self.size))\n",
    "#             pg.draw.line(screen, red, (self.position[0], self.position[1]), ((self.position[0]+self.velocity[0]*(self.size/(2.5*self.max_vel))), (self.position[1]+self.velocity[1]*(self.size/(2.5*self.max_vel)))), int(self.size/3))\n",
    "        \n",
    "        draw_head()\n",
    "        "
   ]
  },
  {
   "cell_type": "code",
   "execution_count": 5,
   "metadata": {
    "ExecuteTime": {
     "end_time": "2019-06-17T02:35:23.822240Z",
     "start_time": "2019-06-17T02:35:23.811226Z"
    }
   },
   "outputs": [],
   "source": [
    "def spawn_buyer(creatures, area_circle):\n",
    "    \n",
    "    r = area_circle[1]/2 * math.sqrt(random.random())\n",
    "    theta = 2 * math.pi * random.random()\n",
    "    \n",
    "    ran_x_in_circle = area_circle[0][0] + int(r * math.cos(theta))\n",
    "    ran_y_in_circle = area_circle[0][1] + int(r * math.sin(theta))\n",
    "    \n",
    "    creatures.append(create_creature(ran_x_in_circle, ran_y_in_circle, \"buyer\", 10))\n",
    "\n",
    "def spawn_sellers(creatures, area_circle, location, num_sellers):\n",
    "    \n",
    "    location = location - ((num_sellers-1) * .05)/2\n",
    "    \n",
    "    for _ in range(num_sellers):\n",
    "        r = area_circle[1]*2/3 * math.sqrt(1)\n",
    "        theta = location * math.pi\n",
    "\n",
    "        x = area_circle[0][0] + int(r * math.cos(theta))\n",
    "        y = area_circle[0][1] + int(r * math.sin(theta))\n",
    "        creatures.append(create_creature(x,y,\"seller\", 20))\n",
    "        \n",
    "        location += .05\n",
    "    \n",
    "def draw_test_circle(area_circle, m):\n",
    "    \n",
    "    r = area_circle[1]*7/12 * math.sqrt(1)\n",
    "    theta = m * math.pi\n",
    "    \n",
    "    base_x_in_circle = area_circle[0][0] + int(r * math.cos(theta))\n",
    "    base_y_in_circle = area_circle[0][1] + int(r * math.sin(theta))\n",
    "    \n",
    "    pg.draw.ellipse(screen, red, (get_draw_pos(base_x_in_circle,10), get_draw_pos(base_y_in_circle,10), 10, 10))\n",
    "    "
   ]
  },
  {
   "cell_type": "code",
   "execution_count": 6,
   "metadata": {
    "ExecuteTime": {
     "end_time": "2019-06-17T02:40:45.305515Z",
     "start_time": "2019-06-17T02:35:23.825893Z"
    }
   },
   "outputs": [
    {
     "name": "stdout",
     "output_type": "stream",
     "text": [
      "EXITED\n"
     ]
    },
    {
     "ename": "SystemExit",
     "evalue": "",
     "output_type": "error",
     "traceback": [
      "An exception has occurred, use %tb to see the full traceback.\n",
      "\u001b[0;31mSystemExit\u001b[0m\n"
     ]
    },
    {
     "name": "stderr",
     "output_type": "stream",
     "text": [
      "/Users/jackselbo/anaconda3/lib/python3.7/site-packages/IPython/core/interactiveshell.py:3275: UserWarning: To exit: use 'exit', 'quit', or Ctrl-D.\n",
      "  warn(\"To exit: use 'exit', 'quit', or Ctrl-D.\", stacklevel=1)\n"
     ]
    }
   ],
   "source": [
    "creatures = []\n",
    "market_circle = [[200,game_height/2],200]\n",
    "m = 0\n",
    "\n",
    "for _ in range(num_buyers):\n",
    "    spawn_buyer(creatures, market_circle)\n",
    "    \n",
    "spawn_sellers(creatures, market_circle, 3/2, 15)\n",
    "    \n",
    "game_over = False\n",
    "while not game_over:\n",
    "    screen.fill(black)\n",
    "    \n",
    "    pg.draw.ellipse(screen, blue, (get_draw_pos(market_circle[0][0],market_circle[1]), get_draw_pos(market_circle[0][1], market_circle[1]), market_circle[1], market_circle[1]))\n",
    " \n",
    "    \n",
    "    for creature in creatures:\n",
    "        creature.draw()\n",
    "    \n",
    "    draw_test_circle(market_circle, 3/2)\n",
    "    \n",
    "    pg.display.update()\n",
    "    clock.tick(fps)\n",
    "    \n",
    "    for event in pg.event.get():\n",
    "\n",
    "        if event.type == pg.QUIT:\n",
    "            game_over == True\n",
    "            print(\"EXITED\")\n",
    "\n",
    "            sys.exit()\n",
    "pygame.quit()\n",
    "quit()\n",
    "    "
   ]
  }
 ],
 "metadata": {
  "kernelspec": {
   "display_name": "Python 3",
   "language": "python",
   "name": "python3"
  },
  "language_info": {
   "codemirror_mode": {
    "name": "ipython",
    "version": 3
   },
   "file_extension": ".py",
   "mimetype": "text/x-python",
   "name": "python",
   "nbconvert_exporter": "python",
   "pygments_lexer": "ipython3",
   "version": "3.7.1"
  }
 },
 "nbformat": 4,
 "nbformat_minor": 2
}
